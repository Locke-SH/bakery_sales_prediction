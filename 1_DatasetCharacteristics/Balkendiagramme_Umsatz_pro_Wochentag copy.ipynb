{
 "cells": [
  {
   "cell_type": "markdown",
   "metadata": {},
   "source": [
    "Import Libraries"
   ]
  },
  {
   "cell_type": "code",
   "execution_count": 1,
   "metadata": {},
   "outputs": [],
   "source": [
    "import pandas as pd\n",
    "import matplotlib.pyplot as plt\n",
    "import seaborn as sns\n",
    "import numpy as np\n",
    "from scipy.stats import sem, t\n"
   ]
  },
  {
   "cell_type": "markdown",
   "metadata": {},
   "source": [
    "Load dataset:"
   ]
  },
  {
   "cell_type": "code",
   "execution_count": 2,
   "metadata": {},
   "outputs": [
    {
     "data": {
      "text/html": [
       "<div>\n",
       "<style scoped>\n",
       "    .dataframe tbody tr th:only-of-type {\n",
       "        vertical-align: middle;\n",
       "    }\n",
       "\n",
       "    .dataframe tbody tr th {\n",
       "        vertical-align: top;\n",
       "    }\n",
       "\n",
       "    .dataframe thead th {\n",
       "        text-align: right;\n",
       "    }\n",
       "</style>\n",
       "<table border=\"1\" class=\"dataframe\">\n",
       "  <thead>\n",
       "    <tr style=\"text-align: right;\">\n",
       "      <th></th>\n",
       "      <th>Datum</th>\n",
       "      <th>Warengruppe</th>\n",
       "      <th>Umsatz</th>\n",
       "      <th>KielerWoche</th>\n",
       "      <th>Bewoelkung</th>\n",
       "      <th>Temperatur</th>\n",
       "      <th>Windgeschwindigkeit</th>\n",
       "      <th>Wettercode</th>\n",
       "      <th>Feiertag</th>\n",
       "      <th>Montag</th>\n",
       "      <th>Dienstag</th>\n",
       "      <th>Mittwoch</th>\n",
       "      <th>Donnerstag</th>\n",
       "      <th>Freitag</th>\n",
       "      <th>Samstag</th>\n",
       "      <th>Sonntag</th>\n",
       "    </tr>\n",
       "  </thead>\n",
       "  <tbody>\n",
       "    <tr>\n",
       "      <th>0</th>\n",
       "      <td>2013-07-01</td>\n",
       "      <td>1</td>\n",
       "      <td>148.828353</td>\n",
       "      <td>0.0</td>\n",
       "      <td>6.0</td>\n",
       "      <td>17.8375</td>\n",
       "      <td>15.0</td>\n",
       "      <td>20.0</td>\n",
       "      <td>0.0</td>\n",
       "      <td>1</td>\n",
       "      <td>0</td>\n",
       "      <td>0</td>\n",
       "      <td>0</td>\n",
       "      <td>0</td>\n",
       "      <td>0</td>\n",
       "      <td>0</td>\n",
       "    </tr>\n",
       "    <tr>\n",
       "      <th>1</th>\n",
       "      <td>2013-07-02</td>\n",
       "      <td>1</td>\n",
       "      <td>159.793757</td>\n",
       "      <td>0.0</td>\n",
       "      <td>3.0</td>\n",
       "      <td>17.3125</td>\n",
       "      <td>10.0</td>\n",
       "      <td>20.0</td>\n",
       "      <td>0.0</td>\n",
       "      <td>0</td>\n",
       "      <td>1</td>\n",
       "      <td>0</td>\n",
       "      <td>0</td>\n",
       "      <td>0</td>\n",
       "      <td>0</td>\n",
       "      <td>0</td>\n",
       "    </tr>\n",
       "    <tr>\n",
       "      <th>2</th>\n",
       "      <td>2013-07-03</td>\n",
       "      <td>1</td>\n",
       "      <td>111.885594</td>\n",
       "      <td>0.0</td>\n",
       "      <td>7.0</td>\n",
       "      <td>21.0750</td>\n",
       "      <td>6.0</td>\n",
       "      <td>61.0</td>\n",
       "      <td>0.0</td>\n",
       "      <td>0</td>\n",
       "      <td>0</td>\n",
       "      <td>1</td>\n",
       "      <td>0</td>\n",
       "      <td>0</td>\n",
       "      <td>0</td>\n",
       "      <td>0</td>\n",
       "    </tr>\n",
       "    <tr>\n",
       "      <th>3</th>\n",
       "      <td>2013-07-04</td>\n",
       "      <td>1</td>\n",
       "      <td>168.864941</td>\n",
       "      <td>0.0</td>\n",
       "      <td>7.0</td>\n",
       "      <td>18.8500</td>\n",
       "      <td>7.0</td>\n",
       "      <td>20.0</td>\n",
       "      <td>0.0</td>\n",
       "      <td>0</td>\n",
       "      <td>0</td>\n",
       "      <td>0</td>\n",
       "      <td>1</td>\n",
       "      <td>0</td>\n",
       "      <td>0</td>\n",
       "      <td>0</td>\n",
       "    </tr>\n",
       "    <tr>\n",
       "      <th>4</th>\n",
       "      <td>2013-07-05</td>\n",
       "      <td>1</td>\n",
       "      <td>171.280754</td>\n",
       "      <td>0.0</td>\n",
       "      <td>5.0</td>\n",
       "      <td>19.9750</td>\n",
       "      <td>12.0</td>\n",
       "      <td>20.0</td>\n",
       "      <td>0.0</td>\n",
       "      <td>0</td>\n",
       "      <td>0</td>\n",
       "      <td>0</td>\n",
       "      <td>0</td>\n",
       "      <td>1</td>\n",
       "      <td>0</td>\n",
       "      <td>0</td>\n",
       "    </tr>\n",
       "  </tbody>\n",
       "</table>\n",
       "</div>"
      ],
      "text/plain": [
       "        Datum  Warengruppe      Umsatz  KielerWoche  Bewoelkung  Temperatur  \\\n",
       "0  2013-07-01            1  148.828353          0.0         6.0     17.8375   \n",
       "1  2013-07-02            1  159.793757          0.0         3.0     17.3125   \n",
       "2  2013-07-03            1  111.885594          0.0         7.0     21.0750   \n",
       "3  2013-07-04            1  168.864941          0.0         7.0     18.8500   \n",
       "4  2013-07-05            1  171.280754          0.0         5.0     19.9750   \n",
       "\n",
       "   Windgeschwindigkeit  Wettercode  Feiertag  Montag  Dienstag  Mittwoch  \\\n",
       "0                 15.0        20.0       0.0       1         0         0   \n",
       "1                 10.0        20.0       0.0       0         1         0   \n",
       "2                  6.0        61.0       0.0       0         0         1   \n",
       "3                  7.0        20.0       0.0       0         0         0   \n",
       "4                 12.0        20.0       0.0       0         0         0   \n",
       "\n",
       "   Donnerstag  Freitag  Samstag  Sonntag  \n",
       "0           0        0        0        0  \n",
       "1           0        0        0        0  \n",
       "2           0        0        0        0  \n",
       "3           1        0        0        0  \n",
       "4           0        1        0        0  "
      ]
     },
     "execution_count": 2,
     "metadata": {},
     "output_type": "execute_result"
    }
   ],
   "source": [
    "\n",
    "# CSV-Datei einlesen\n",
    "df = pd.read_csv(\"../0_DataPreparation/merged_data_full_with_weekdays.csv\")\n",
    "\n",
    "df.head()\n"
   ]
  },
  {
   "cell_type": "markdown",
   "metadata": {},
   "source": [
    "Daten vorbereiten"
   ]
  },
  {
   "cell_type": "code",
   "execution_count": 6,
   "metadata": {},
   "outputs": [],
   "source": [
    "# Neue Spalte \"Wochentag\" erstellen\n",
    "df[\"Wochentag\"] = pd.Categorical(\n",
    "    np.where(df[\"Montag\"] == 1, \"Montag\",\n",
    "    np.where(df[\"Dienstag\"] == 1, \"Dienstag\",\n",
    "    np.where(df[\"Mittwoch\"] == 1, \"Mittwoch\",\n",
    "    np.where(df[\"Donnerstag\"] == 1, \"Donnerstag\",\n",
    "    np.where(df[\"Freitag\"] == 1, \"Freitag\",\n",
    "    np.where(df[\"Samstag\"] == 1, \"Samstag\", \"Sonntag\"))))))\n",
    ")\n",
    "\n",
    "# Sortierreihenfolge für Wochentage festlegen\n",
    "df[\"Wochentag\"] = df[\"Wochentag\"].cat.set_categories(\n",
    "    [\"Montag\", \"Dienstag\", \"Mittwoch\", \"Donnerstag\", \"Freitag\", \"Samstag\", \"Sonntag\"],\n",
    "    ordered=True\n",
    ")"
   ]
  },
  {
   "cell_type": "markdown",
   "metadata": {},
   "source": [
    "Durchschnitt und Konfidenzintervall berechnen"
   ]
  },
  {
   "cell_type": "code",
   "execution_count": 14,
   "metadata": {},
   "outputs": [
    {
     "name": "stderr",
     "output_type": "stream",
     "text": [
      "/tmp/ipykernel_21801/3645357842.py:2: FutureWarning: The default of observed=False is deprecated and will be changed to True in a future version of pandas. Pass observed=False to retain current behavior or observed=True to adopt the future default and silence this warning.\n",
      "  grouped = df.groupby(\"Wochentag\")[\"Umsatz\"]\n"
     ]
    }
   ],
   "source": [
    "# Gruppieren nach Wochentagen\n",
    "grouped = df.groupby(\"Wochentag\")[\"Umsatz\"]\n",
    "\n",
    "# Mittelwerte und Standardfehler berechnen\n",
    "means = grouped.mean()\n",
    "std_errors = grouped.apply(sem)  # Standardfehler\n",
    "\n",
    "# Konfidenzintervall berechnen\n",
    "confidence_intervals = std_errors * t.ppf((1 + 0.95) / 2, grouped.count() - 1)\n",
    "confidence_intervals = confidence_intervals.reindex(means.index)  # Reihenfolge sicherstellen\n",
    "\n",
    "confidence_intervals = confidence_intervals.fillna(0) \n",
    "yerr = confidence_intervals.values"
   ]
  },
  {
   "cell_type": "markdown",
   "metadata": {},
   "source": [
    "Balkendiagramm erstellen"
   ]
  },
  {
   "cell_type": "code",
   "execution_count": 15,
   "metadata": {},
   "outputs": [
    {
     "data": {
      "image/png": "[encoded data removed]",
      "text/plain": [
       "<Figure size 1000x600 with 1 Axes>"
      ]
     },
     "metadata": {},
     "output_type": "display_data"
    }
   ],
   "source": [
    "# Balkendiagramm mit Konfidenzintervallen\n",
    "plt.figure(figsize=(10, 6))\n",
    "sns.barplot(x=means.index, y=means.values, capsize=0.1)\n",
    "plt.errorbar(x=range(len(means)), y=means.values, yerr=yerr, fmt='none', ecolor='black', capsize=5)\n",
    "plt.title(\"Durchschnittlicher Umsatz pro Wochentag mit Konfidenzintervallen\")\n",
    "plt.xlabel(\"Wochentag\")\n",
    "plt.ylabel(\"Durchschnittlicher Umsatz\")\n",
    "plt.xticks(ticks=range(len(means)), labels=means.index, rotation=45)\n",
    "plt.tight_layout()\n",
    "plt.show()\n"
   ]
  }
 ],
 "metadata": {
  "kernelspec": {
   "display_name": "Python 3",
   "language": "python",
   "name": "python3"
  },
  "language_info": {
   "codemirror_mode": {
    "name": "ipython",
    "version": 3
   },
   "file_extension": ".py",
   "mimetype": "text/x-python",
   "name": "python",
   "nbconvert_exporter": "python",
   "pygments_lexer": "ipython3",
   "version": "3.12.1"
  }
 },
 "nbformat": 4,
 "nbformat_minor": 2
}
